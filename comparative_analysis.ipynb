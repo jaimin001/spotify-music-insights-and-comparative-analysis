{
 "cells": [
  {
   "cell_type": "code",
   "execution_count": 16,
   "metadata": {},
   "outputs": [],
   "source": [
    "import pandas as pd\n",
    "import seaborn as sns\n",
    "import numpy as np\n",
    "import matplotlib.pyplot as plt\n",
    "from matplotlib import style\n",
    "%matplotlib inline"
   ]
  },
  {
   "cell_type": "code",
   "execution_count": 2,
   "metadata": {},
   "outputs": [],
   "source": [
    "data1 = pd.read_csv('./jaimin/jaimin_info.csv')\n",
    "data2 = pd.read_csv('./mukul/mukul_info.csv')"
   ]
  },
  {
   "cell_type": "code",
   "execution_count": 3,
   "metadata": {},
   "outputs": [],
   "source": [
    "data1 = data1.drop_duplicates(subset='trackName', keep=\"last\")\n",
    "data1 = data1.reset_index()\n",
    "data2 = data2.drop_duplicates(subset='trackName', keep=\"last\")\n",
    "data2 = data2.reset_index()\n",
    "\n",
    "data1 = data1.drop(columns=['Unnamed: 0', 'index', 'time_signature', 'popularity', 'explicit'])\n",
    "data2 = data2.drop(columns=['Unnamed: 0', 'index', 'time_signature'])"
   ]
  },
  {
   "attachments": {},
   "cell_type": "markdown",
   "metadata": {},
   "source": [
    "# Spotify Audio Features\n",
    "\n",
    "- Acousticness : A confidence measure from 0.0 to 1.0 of whether the track is acoustic. 1.0 represents high confidence the track is acoustic.\n",
    "\n",
    "- Danceability : Danceability describes how suitable a track is for dancing based on a combination of musical elements including tempo, rhythm stability, beat strength, and overall regularity. A value of 0.0 is least danceable and 1.0 is most danceable.\n",
    "\n",
    "- Energy : Energy is a measure from 0.0 to 1.0 and represents a perceptual measure of intensity and activity. Typically, energetic tracks feel fast, loud, and noisy. For example, death metal has high energy, while a Bach prelude scores low on the scale. Perceptual features contributing to this attribute include dynamic range, perceived loudness, timbre, onset rate, and general entropy.\n",
    "\n",
    "- Instrumentalness: Predicts whether a track contains no vocals. “Ooh” and “aah” sounds are treated as instrumental in this context. Rap or spoken word tracks are clearly “vocal”. The closer the instrumentalness value is to 1.0, the greater likelihood the track contains no vocal content. Values above 0.5 are intended to represent instrumental tracks, but confidence is higher as the value approaches 1.0.\n",
    "\n",
    "- Liveness: Detects the presence of an audience in the recording. Higher liveness values represent an increased probability that the track was performed live. A value above 0.8 provides strong likelihood that the track is live.\n",
    "\n",
    "- Loudness: he overall loudness of a track in decibels (dB). Loudness values are averaged across the entire track and are useful for comparing relative loudness of tracks. Loudness is the quality of a sound that is the primary psychological correlate of physical strength (amplitude). Values typical range between -60 and 0 db.\n",
    "\n",
    "- Speechiness: Speechiness detects the presence of spoken words in a track. The more exclusively speech-like the recording (e.g. talk show, audio book, poetry), the closer to 1.0 the attribute value. Values above 0.66 describe tracks that are probably made entirely of spoken words. Values between 0.33 and 0.66 describe tracks that may contain both music and speech, either in sections or layered, including such cases as rap music. Values below 0.33 most likely represent music and other non-speech-like tracks.\n",
    "\n",
    "- Valence: A measure from 0.0 to 1.0 describing the musical positiveness conveyed by a track. Tracks with high valence sound more positive (e.g. happy, cheerful, euphoric), while tracks with low valence sound more negative (e.g. sad, depressed, angry).\n",
    "\n",
    "- Tempo: The overall estimated tempo of a track in beats per minute (BPM). In musical terminology, tempo is the speed or pace of a given piece and derives directly from the average beat duration."
   ]
  },
  {
   "cell_type": "code",
   "execution_count": 4,
   "metadata": {},
   "outputs": [
    {
     "data": {
      "text/html": [
       "<div>\n",
       "<style scoped>\n",
       "    .dataframe tbody tr th:only-of-type {\n",
       "        vertical-align: middle;\n",
       "    }\n",
       "\n",
       "    .dataframe tbody tr th {\n",
       "        vertical-align: top;\n",
       "    }\n",
       "\n",
       "    .dataframe thead th {\n",
       "        text-align: right;\n",
       "    }\n",
       "</style>\n",
       "<table border=\"1\" class=\"dataframe\">\n",
       "  <thead>\n",
       "    <tr style=\"text-align: right;\">\n",
       "      <th></th>\n",
       "      <th>danceability</th>\n",
       "      <th>energy</th>\n",
       "      <th>key</th>\n",
       "      <th>loudness</th>\n",
       "      <th>mode</th>\n",
       "      <th>speechiness</th>\n",
       "      <th>acousticness</th>\n",
       "      <th>instrumentalness</th>\n",
       "      <th>liveness</th>\n",
       "      <th>valence</th>\n",
       "      <th>tempo</th>\n",
       "      <th>id</th>\n",
       "      <th>duration_ms</th>\n",
       "      <th>trackName</th>\n",
       "      <th>artistName</th>\n",
       "    </tr>\n",
       "  </thead>\n",
       "  <tbody>\n",
       "    <tr>\n",
       "      <th>0</th>\n",
       "      <td>0.679</td>\n",
       "      <td>0.582</td>\n",
       "      <td>11</td>\n",
       "      <td>-10.459</td>\n",
       "      <td>1</td>\n",
       "      <td>0.0615</td>\n",
       "      <td>0.0306</td>\n",
       "      <td>0.000932</td>\n",
       "      <td>0.1080</td>\n",
       "      <td>0.767</td>\n",
       "      <td>149.975</td>\n",
       "      <td>110PnrQX9AJIt3HNJtjPgt</td>\n",
       "      <td>277200</td>\n",
       "      <td>False Direction</td>\n",
       "      <td>Dayglow</td>\n",
       "    </tr>\n",
       "    <tr>\n",
       "      <th>1</th>\n",
       "      <td>0.467</td>\n",
       "      <td>0.859</td>\n",
       "      <td>0</td>\n",
       "      <td>-2.946</td>\n",
       "      <td>0</td>\n",
       "      <td>0.0409</td>\n",
       "      <td>0.6610</td>\n",
       "      <td>0.000000</td>\n",
       "      <td>0.0522</td>\n",
       "      <td>0.673</td>\n",
       "      <td>89.842</td>\n",
       "      <td>0mh4VutnDyBn1sqcp05MZD</td>\n",
       "      <td>251480</td>\n",
       "      <td>Mat Aazma Re</td>\n",
       "      <td>Pritam</td>\n",
       "    </tr>\n",
       "    <tr>\n",
       "      <th>2</th>\n",
       "      <td>0.678</td>\n",
       "      <td>0.771</td>\n",
       "      <td>6</td>\n",
       "      <td>-2.849</td>\n",
       "      <td>1</td>\n",
       "      <td>0.0266</td>\n",
       "      <td>0.0277</td>\n",
       "      <td>0.002530</td>\n",
       "      <td>0.1490</td>\n",
       "      <td>0.462</td>\n",
       "      <td>105.976</td>\n",
       "      <td>3s6H6UW7yPu2rsF8CGki60</td>\n",
       "      <td>253200</td>\n",
       "      <td>Zindagi Do Pal Ki</td>\n",
       "      <td>KK</td>\n",
       "    </tr>\n",
       "    <tr>\n",
       "      <th>3</th>\n",
       "      <td>0.636</td>\n",
       "      <td>0.745</td>\n",
       "      <td>2</td>\n",
       "      <td>-5.400</td>\n",
       "      <td>0</td>\n",
       "      <td>0.0378</td>\n",
       "      <td>0.1550</td>\n",
       "      <td>0.000003</td>\n",
       "      <td>0.1320</td>\n",
       "      <td>0.719</td>\n",
       "      <td>139.986</td>\n",
       "      <td>5LwlAJEkUeJEDBbN14RV6o</td>\n",
       "      <td>288356</td>\n",
       "      <td>Saanson Ke</td>\n",
       "      <td>KK</td>\n",
       "    </tr>\n",
       "    <tr>\n",
       "      <th>4</th>\n",
       "      <td>0.486</td>\n",
       "      <td>0.382</td>\n",
       "      <td>6</td>\n",
       "      <td>-6.183</td>\n",
       "      <td>1</td>\n",
       "      <td>0.0286</td>\n",
       "      <td>0.6130</td>\n",
       "      <td>0.000086</td>\n",
       "      <td>0.1490</td>\n",
       "      <td>0.164</td>\n",
       "      <td>125.918</td>\n",
       "      <td>5nHwX7e5XHnie22nuTFgda</td>\n",
       "      <td>333200</td>\n",
       "      <td>Dil Kyun Yeh Mera</td>\n",
       "      <td>KK</td>\n",
       "    </tr>\n",
       "    <tr>\n",
       "      <th>...</th>\n",
       "      <td>...</td>\n",
       "      <td>...</td>\n",
       "      <td>...</td>\n",
       "      <td>...</td>\n",
       "      <td>...</td>\n",
       "      <td>...</td>\n",
       "      <td>...</td>\n",
       "      <td>...</td>\n",
       "      <td>...</td>\n",
       "      <td>...</td>\n",
       "      <td>...</td>\n",
       "      <td>...</td>\n",
       "      <td>...</td>\n",
       "      <td>...</td>\n",
       "      <td>...</td>\n",
       "    </tr>\n",
       "    <tr>\n",
       "      <th>632</th>\n",
       "      <td>0.556</td>\n",
       "      <td>0.202</td>\n",
       "      <td>4</td>\n",
       "      <td>-16.397</td>\n",
       "      <td>1</td>\n",
       "      <td>0.0324</td>\n",
       "      <td>0.9150</td>\n",
       "      <td>0.038100</td>\n",
       "      <td>0.1120</td>\n",
       "      <td>0.200</td>\n",
       "      <td>145.017</td>\n",
       "      <td>0cJTjTH3XVTTJh8F4Uq1db</td>\n",
       "      <td>243310</td>\n",
       "      <td>Waqt Ki Baatein</td>\n",
       "      <td>Dream Note</td>\n",
       "    </tr>\n",
       "    <tr>\n",
       "      <th>633</th>\n",
       "      <td>0.744</td>\n",
       "      <td>0.700</td>\n",
       "      <td>2</td>\n",
       "      <td>-7.663</td>\n",
       "      <td>1</td>\n",
       "      <td>0.0375</td>\n",
       "      <td>0.2780</td>\n",
       "      <td>0.000155</td>\n",
       "      <td>0.0680</td>\n",
       "      <td>0.867</td>\n",
       "      <td>144.033</td>\n",
       "      <td>4FeczSomVWVyU4FW7xDeAI</td>\n",
       "      <td>309640</td>\n",
       "      <td>tere bina</td>\n",
       "      <td>Zaeden</td>\n",
       "    </tr>\n",
       "    <tr>\n",
       "      <th>634</th>\n",
       "      <td>0.699</td>\n",
       "      <td>0.299</td>\n",
       "      <td>6</td>\n",
       "      <td>-12.599</td>\n",
       "      <td>1</td>\n",
       "      <td>0.0403</td>\n",
       "      <td>0.8690</td>\n",
       "      <td>0.000000</td>\n",
       "      <td>0.0724</td>\n",
       "      <td>0.459</td>\n",
       "      <td>118.969</td>\n",
       "      <td>74kCarkFBzXYXNkkYJIsG0</td>\n",
       "      <td>212773</td>\n",
       "      <td>Alag Aasmaan</td>\n",
       "      <td>Anuv Jain</td>\n",
       "    </tr>\n",
       "    <tr>\n",
       "      <th>635</th>\n",
       "      <td>0.653</td>\n",
       "      <td>0.446</td>\n",
       "      <td>0</td>\n",
       "      <td>-7.867</td>\n",
       "      <td>1</td>\n",
       "      <td>0.0351</td>\n",
       "      <td>0.5460</td>\n",
       "      <td>0.000045</td>\n",
       "      <td>0.1090</td>\n",
       "      <td>0.472</td>\n",
       "      <td>100.018</td>\n",
       "      <td>6E6BCsQHXDAdXsrL7zV71N</td>\n",
       "      <td>218550</td>\n",
       "      <td>Roz Roz</td>\n",
       "      <td>The Yellow Diary</td>\n",
       "    </tr>\n",
       "    <tr>\n",
       "      <th>636</th>\n",
       "      <td>0.806</td>\n",
       "      <td>0.649</td>\n",
       "      <td>9</td>\n",
       "      <td>-9.004</td>\n",
       "      <td>0</td>\n",
       "      <td>0.0347</td>\n",
       "      <td>0.0391</td>\n",
       "      <td>0.000056</td>\n",
       "      <td>0.0557</td>\n",
       "      <td>0.897</td>\n",
       "      <td>114.834</td>\n",
       "      <td>7zLGHdfJ3JRPxvc96mEPEi</td>\n",
       "      <td>249573</td>\n",
       "      <td>Out of Touch</td>\n",
       "      <td>Daryl Hall &amp; John Oates</td>\n",
       "    </tr>\n",
       "  </tbody>\n",
       "</table>\n",
       "<p>637 rows × 15 columns</p>\n",
       "</div>"
      ],
      "text/plain": [
       "     danceability  energy  key  loudness  mode  speechiness  acousticness  \\\n",
       "0           0.679   0.582   11   -10.459     1       0.0615        0.0306   \n",
       "1           0.467   0.859    0    -2.946     0       0.0409        0.6610   \n",
       "2           0.678   0.771    6    -2.849     1       0.0266        0.0277   \n",
       "3           0.636   0.745    2    -5.400     0       0.0378        0.1550   \n",
       "4           0.486   0.382    6    -6.183     1       0.0286        0.6130   \n",
       "..            ...     ...  ...       ...   ...          ...           ...   \n",
       "632         0.556   0.202    4   -16.397     1       0.0324        0.9150   \n",
       "633         0.744   0.700    2    -7.663     1       0.0375        0.2780   \n",
       "634         0.699   0.299    6   -12.599     1       0.0403        0.8690   \n",
       "635         0.653   0.446    0    -7.867     1       0.0351        0.5460   \n",
       "636         0.806   0.649    9    -9.004     0       0.0347        0.0391   \n",
       "\n",
       "     instrumentalness  liveness  valence    tempo                      id  \\\n",
       "0            0.000932    0.1080    0.767  149.975  110PnrQX9AJIt3HNJtjPgt   \n",
       "1            0.000000    0.0522    0.673   89.842  0mh4VutnDyBn1sqcp05MZD   \n",
       "2            0.002530    0.1490    0.462  105.976  3s6H6UW7yPu2rsF8CGki60   \n",
       "3            0.000003    0.1320    0.719  139.986  5LwlAJEkUeJEDBbN14RV6o   \n",
       "4            0.000086    0.1490    0.164  125.918  5nHwX7e5XHnie22nuTFgda   \n",
       "..                ...       ...      ...      ...                     ...   \n",
       "632          0.038100    0.1120    0.200  145.017  0cJTjTH3XVTTJh8F4Uq1db   \n",
       "633          0.000155    0.0680    0.867  144.033  4FeczSomVWVyU4FW7xDeAI   \n",
       "634          0.000000    0.0724    0.459  118.969  74kCarkFBzXYXNkkYJIsG0   \n",
       "635          0.000045    0.1090    0.472  100.018  6E6BCsQHXDAdXsrL7zV71N   \n",
       "636          0.000056    0.0557    0.897  114.834  7zLGHdfJ3JRPxvc96mEPEi   \n",
       "\n",
       "     duration_ms          trackName               artistName  \n",
       "0         277200    False Direction                  Dayglow  \n",
       "1         251480       Mat Aazma Re                   Pritam  \n",
       "2         253200  Zindagi Do Pal Ki                       KK  \n",
       "3         288356         Saanson Ke                       KK  \n",
       "4         333200  Dil Kyun Yeh Mera                       KK  \n",
       "..           ...                ...                      ...  \n",
       "632       243310    Waqt Ki Baatein               Dream Note  \n",
       "633       309640          tere bina                   Zaeden  \n",
       "634       212773       Alag Aasmaan                Anuv Jain  \n",
       "635       218550            Roz Roz         The Yellow Diary  \n",
       "636       249573       Out of Touch  Daryl Hall & John Oates  \n",
       "\n",
       "[637 rows x 15 columns]"
      ]
     },
     "execution_count": 4,
     "metadata": {},
     "output_type": "execute_result"
    }
   ],
   "source": [
    "data1"
   ]
  },
  {
   "cell_type": "code",
   "execution_count": 5,
   "metadata": {},
   "outputs": [
    {
     "data": {
      "text/html": [
       "<div>\n",
       "<style scoped>\n",
       "    .dataframe tbody tr th:only-of-type {\n",
       "        vertical-align: middle;\n",
       "    }\n",
       "\n",
       "    .dataframe tbody tr th {\n",
       "        vertical-align: top;\n",
       "    }\n",
       "\n",
       "    .dataframe thead th {\n",
       "        text-align: right;\n",
       "    }\n",
       "</style>\n",
       "<table border=\"1\" class=\"dataframe\">\n",
       "  <thead>\n",
       "    <tr style=\"text-align: right;\">\n",
       "      <th></th>\n",
       "      <th>danceability</th>\n",
       "      <th>energy</th>\n",
       "      <th>key</th>\n",
       "      <th>loudness</th>\n",
       "      <th>mode</th>\n",
       "      <th>speechiness</th>\n",
       "      <th>acousticness</th>\n",
       "      <th>instrumentalness</th>\n",
       "      <th>liveness</th>\n",
       "      <th>valence</th>\n",
       "      <th>tempo</th>\n",
       "      <th>type</th>\n",
       "      <th>id</th>\n",
       "      <th>uri</th>\n",
       "      <th>track_href</th>\n",
       "      <th>analysis_url</th>\n",
       "      <th>duration_ms</th>\n",
       "      <th>trackName</th>\n",
       "      <th>artistName</th>\n",
       "    </tr>\n",
       "  </thead>\n",
       "  <tbody>\n",
       "    <tr>\n",
       "      <th>0</th>\n",
       "      <td>0.348</td>\n",
       "      <td>0.166</td>\n",
       "      <td>11</td>\n",
       "      <td>-20.349</td>\n",
       "      <td>1</td>\n",
       "      <td>0.0376</td>\n",
       "      <td>0.8520</td>\n",
       "      <td>0.915000</td>\n",
       "      <td>0.1370</td>\n",
       "      <td>0.0337</td>\n",
       "      <td>123.580</td>\n",
       "      <td>audio_features</td>\n",
       "      <td>3VqiD8Yvk6bKwqS1e64PHB</td>\n",
       "      <td>spotify:track:3VqiD8Yvk6bKwqS1e64PHB</td>\n",
       "      <td>https://api.spotify.com/v1/tracks/3VqiD8Yvk6bK...</td>\n",
       "      <td>https://api.spotify.com/v1/audio-analysis/3Vqi...</td>\n",
       "      <td>60107</td>\n",
       "      <td>Colour Spectrum</td>\n",
       "      <td>Coldplay</td>\n",
       "    </tr>\n",
       "    <tr>\n",
       "      <th>1</th>\n",
       "      <td>0.726</td>\n",
       "      <td>0.731</td>\n",
       "      <td>1</td>\n",
       "      <td>-6.298</td>\n",
       "      <td>0</td>\n",
       "      <td>0.1590</td>\n",
       "      <td>0.1100</td>\n",
       "      <td>0.000003</td>\n",
       "      <td>0.0928</td>\n",
       "      <td>0.4370</td>\n",
       "      <td>170.125</td>\n",
       "      <td>audio_features</td>\n",
       "      <td>5d1rmWWF1725tnYjq6rMDB</td>\n",
       "      <td>spotify:track:5d1rmWWF1725tnYjq6rMDB</td>\n",
       "      <td>https://api.spotify.com/v1/tracks/5d1rmWWF1725...</td>\n",
       "      <td>https://api.spotify.com/v1/audio-analysis/5d1r...</td>\n",
       "      <td>190293</td>\n",
       "      <td>Way To Break My Heart (feat. Skrillex)</td>\n",
       "      <td>Ed Sheeran</td>\n",
       "    </tr>\n",
       "    <tr>\n",
       "      <th>2</th>\n",
       "      <td>0.599</td>\n",
       "      <td>0.747</td>\n",
       "      <td>2</td>\n",
       "      <td>-5.922</td>\n",
       "      <td>1</td>\n",
       "      <td>0.0375</td>\n",
       "      <td>0.0191</td>\n",
       "      <td>0.000005</td>\n",
       "      <td>0.0993</td>\n",
       "      <td>0.4540</td>\n",
       "      <td>126.031</td>\n",
       "      <td>audio_features</td>\n",
       "      <td>7iq8PFNFGvsBgAD4Mcx737</td>\n",
       "      <td>spotify:track:7iq8PFNFGvsBgAD4Mcx737</td>\n",
       "      <td>https://api.spotify.com/v1/tracks/7iq8PFNFGvsB...</td>\n",
       "      <td>https://api.spotify.com/v1/audio-analysis/7iq8...</td>\n",
       "      <td>157143</td>\n",
       "      <td>iPad - Frank Walker Remix</td>\n",
       "      <td>The Chainsmokers</td>\n",
       "    </tr>\n",
       "    <tr>\n",
       "      <th>3</th>\n",
       "      <td>0.619</td>\n",
       "      <td>0.277</td>\n",
       "      <td>11</td>\n",
       "      <td>-11.771</td>\n",
       "      <td>1</td>\n",
       "      <td>0.0322</td>\n",
       "      <td>0.8920</td>\n",
       "      <td>0.054200</td>\n",
       "      <td>0.1160</td>\n",
       "      <td>0.4350</td>\n",
       "      <td>111.576</td>\n",
       "      <td>audio_features</td>\n",
       "      <td>5h1L6nOR9QYXeeNW14aeus</td>\n",
       "      <td>spotify:track:5h1L6nOR9QYXeeNW14aeus</td>\n",
       "      <td>https://api.spotify.com/v1/tracks/5h1L6nOR9QYX...</td>\n",
       "      <td>https://api.spotify.com/v1/audio-analysis/5h1L...</td>\n",
       "      <td>171149</td>\n",
       "      <td>Pause</td>\n",
       "      <td>Prateek Kuhad</td>\n",
       "    </tr>\n",
       "    <tr>\n",
       "      <th>4</th>\n",
       "      <td>0.611</td>\n",
       "      <td>0.525</td>\n",
       "      <td>7</td>\n",
       "      <td>-9.683</td>\n",
       "      <td>1</td>\n",
       "      <td>0.0354</td>\n",
       "      <td>0.7670</td>\n",
       "      <td>0.799000</td>\n",
       "      <td>0.1120</td>\n",
       "      <td>0.2990</td>\n",
       "      <td>113.946</td>\n",
       "      <td>audio_features</td>\n",
       "      <td>0SHa9XHwYYB1UUmgbgHuhQ</td>\n",
       "      <td>spotify:track:0SHa9XHwYYB1UUmgbgHuhQ</td>\n",
       "      <td>https://api.spotify.com/v1/tracks/0SHa9XHwYYB1...</td>\n",
       "      <td>https://api.spotify.com/v1/audio-analysis/0SHa...</td>\n",
       "      <td>193733</td>\n",
       "      <td>Favorite Peeps</td>\n",
       "      <td>Prateek Kuhad</td>\n",
       "    </tr>\n",
       "    <tr>\n",
       "      <th>...</th>\n",
       "      <td>...</td>\n",
       "      <td>...</td>\n",
       "      <td>...</td>\n",
       "      <td>...</td>\n",
       "      <td>...</td>\n",
       "      <td>...</td>\n",
       "      <td>...</td>\n",
       "      <td>...</td>\n",
       "      <td>...</td>\n",
       "      <td>...</td>\n",
       "      <td>...</td>\n",
       "      <td>...</td>\n",
       "      <td>...</td>\n",
       "      <td>...</td>\n",
       "      <td>...</td>\n",
       "      <td>...</td>\n",
       "      <td>...</td>\n",
       "      <td>...</td>\n",
       "      <td>...</td>\n",
       "    </tr>\n",
       "    <tr>\n",
       "      <th>1158</th>\n",
       "      <td>0.315</td>\n",
       "      <td>0.904</td>\n",
       "      <td>7</td>\n",
       "      <td>-3.773</td>\n",
       "      <td>1</td>\n",
       "      <td>0.0638</td>\n",
       "      <td>0.5360</td>\n",
       "      <td>0.002520</td>\n",
       "      <td>0.9570</td>\n",
       "      <td>0.2180</td>\n",
       "      <td>118.032</td>\n",
       "      <td>audio_features</td>\n",
       "      <td>6ZHCQehGCpGWTi6wEzs8vf</td>\n",
       "      <td>spotify:track:6ZHCQehGCpGWTi6wEzs8vf</td>\n",
       "      <td>https://api.spotify.com/v1/tracks/6ZHCQehGCpGW...</td>\n",
       "      <td>https://api.spotify.com/v1/audio-analysis/6ZHC...</td>\n",
       "      <td>357105</td>\n",
       "      <td>While My Guitar Gently Weeps - Live</td>\n",
       "      <td>Paul McCartney</td>\n",
       "    </tr>\n",
       "    <tr>\n",
       "      <th>1159</th>\n",
       "      <td>0.584</td>\n",
       "      <td>0.576</td>\n",
       "      <td>9</td>\n",
       "      <td>-4.557</td>\n",
       "      <td>1</td>\n",
       "      <td>0.0519</td>\n",
       "      <td>0.5070</td>\n",
       "      <td>0.000000</td>\n",
       "      <td>0.2120</td>\n",
       "      <td>0.4320</td>\n",
       "      <td>170.026</td>\n",
       "      <td>audio_features</td>\n",
       "      <td>28a0aMV1OKoyNiCJuNsWrY</td>\n",
       "      <td>spotify:track:28a0aMV1OKoyNiCJuNsWrY</td>\n",
       "      <td>https://api.spotify.com/v1/tracks/28a0aMV1OKoy...</td>\n",
       "      <td>https://api.spotify.com/v1/audio-analysis/28a0...</td>\n",
       "      <td>165620</td>\n",
       "      <td>That’s Not How This Works (feat. Dan + Shay)</td>\n",
       "      <td>Charlie Puth</td>\n",
       "    </tr>\n",
       "    <tr>\n",
       "      <th>1160</th>\n",
       "      <td>0.469</td>\n",
       "      <td>0.361</td>\n",
       "      <td>0</td>\n",
       "      <td>-8.275</td>\n",
       "      <td>1</td>\n",
       "      <td>0.0293</td>\n",
       "      <td>0.7850</td>\n",
       "      <td>0.001540</td>\n",
       "      <td>0.1040</td>\n",
       "      <td>0.0775</td>\n",
       "      <td>111.972</td>\n",
       "      <td>audio_features</td>\n",
       "      <td>2uy15favOgEOtS8wjAD9B1</td>\n",
       "      <td>spotify:track:2uy15favOgEOtS8wjAD9B1</td>\n",
       "      <td>https://api.spotify.com/v1/tracks/2uy15favOgEO...</td>\n",
       "      <td>https://api.spotify.com/v1/audio-analysis/2uy1...</td>\n",
       "      <td>251277</td>\n",
       "      <td>Tum Ho Toh</td>\n",
       "      <td>Farhan Akhtar</td>\n",
       "    </tr>\n",
       "    <tr>\n",
       "      <th>1161</th>\n",
       "      <td>0.658</td>\n",
       "      <td>0.721</td>\n",
       "      <td>11</td>\n",
       "      <td>-4.892</td>\n",
       "      <td>1</td>\n",
       "      <td>0.0304</td>\n",
       "      <td>0.5760</td>\n",
       "      <td>0.000000</td>\n",
       "      <td>0.1150</td>\n",
       "      <td>0.5620</td>\n",
       "      <td>104.076</td>\n",
       "      <td>audio_features</td>\n",
       "      <td>5fqAR2xqe0zZ6eY4PRsnRk</td>\n",
       "      <td>spotify:track:5fqAR2xqe0zZ6eY4PRsnRk</td>\n",
       "      <td>https://api.spotify.com/v1/tracks/5fqAR2xqe0zZ...</td>\n",
       "      <td>https://api.spotify.com/v1/audio-analysis/5fqA...</td>\n",
       "      <td>178269</td>\n",
       "      <td>Love To Go - Acoustic Version</td>\n",
       "      <td>Lost Frequencies</td>\n",
       "    </tr>\n",
       "    <tr>\n",
       "      <th>1162</th>\n",
       "      <td>0.307</td>\n",
       "      <td>0.405</td>\n",
       "      <td>10</td>\n",
       "      <td>-10.592</td>\n",
       "      <td>1</td>\n",
       "      <td>0.0583</td>\n",
       "      <td>0.6700</td>\n",
       "      <td>0.000001</td>\n",
       "      <td>0.4490</td>\n",
       "      <td>0.1980</td>\n",
       "      <td>93.472</td>\n",
       "      <td>audio_features</td>\n",
       "      <td>6Ob9ogQqMkaL7oJYQRsCya</td>\n",
       "      <td>spotify:track:6Ob9ogQqMkaL7oJYQRsCya</td>\n",
       "      <td>https://api.spotify.com/v1/tracks/6Ob9ogQqMkaL...</td>\n",
       "      <td>https://api.spotify.com/v1/audio-analysis/6Ob9...</td>\n",
       "      <td>398573</td>\n",
       "      <td>Ghost of You (Live from The Royal Albert Hall)</td>\n",
       "      <td>5 Seconds of Summer</td>\n",
       "    </tr>\n",
       "  </tbody>\n",
       "</table>\n",
       "<p>1163 rows × 19 columns</p>\n",
       "</div>"
      ],
      "text/plain": [
       "      danceability  energy  key  loudness  mode  speechiness  acousticness  \\\n",
       "0            0.348   0.166   11   -20.349     1       0.0376        0.8520   \n",
       "1            0.726   0.731    1    -6.298     0       0.1590        0.1100   \n",
       "2            0.599   0.747    2    -5.922     1       0.0375        0.0191   \n",
       "3            0.619   0.277   11   -11.771     1       0.0322        0.8920   \n",
       "4            0.611   0.525    7    -9.683     1       0.0354        0.7670   \n",
       "...            ...     ...  ...       ...   ...          ...           ...   \n",
       "1158         0.315   0.904    7    -3.773     1       0.0638        0.5360   \n",
       "1159         0.584   0.576    9    -4.557     1       0.0519        0.5070   \n",
       "1160         0.469   0.361    0    -8.275     1       0.0293        0.7850   \n",
       "1161         0.658   0.721   11    -4.892     1       0.0304        0.5760   \n",
       "1162         0.307   0.405   10   -10.592     1       0.0583        0.6700   \n",
       "\n",
       "      instrumentalness  liveness  valence    tempo            type  \\\n",
       "0             0.915000    0.1370   0.0337  123.580  audio_features   \n",
       "1             0.000003    0.0928   0.4370  170.125  audio_features   \n",
       "2             0.000005    0.0993   0.4540  126.031  audio_features   \n",
       "3             0.054200    0.1160   0.4350  111.576  audio_features   \n",
       "4             0.799000    0.1120   0.2990  113.946  audio_features   \n",
       "...                ...       ...      ...      ...             ...   \n",
       "1158          0.002520    0.9570   0.2180  118.032  audio_features   \n",
       "1159          0.000000    0.2120   0.4320  170.026  audio_features   \n",
       "1160          0.001540    0.1040   0.0775  111.972  audio_features   \n",
       "1161          0.000000    0.1150   0.5620  104.076  audio_features   \n",
       "1162          0.000001    0.4490   0.1980   93.472  audio_features   \n",
       "\n",
       "                          id                                   uri  \\\n",
       "0     3VqiD8Yvk6bKwqS1e64PHB  spotify:track:3VqiD8Yvk6bKwqS1e64PHB   \n",
       "1     5d1rmWWF1725tnYjq6rMDB  spotify:track:5d1rmWWF1725tnYjq6rMDB   \n",
       "2     7iq8PFNFGvsBgAD4Mcx737  spotify:track:7iq8PFNFGvsBgAD4Mcx737   \n",
       "3     5h1L6nOR9QYXeeNW14aeus  spotify:track:5h1L6nOR9QYXeeNW14aeus   \n",
       "4     0SHa9XHwYYB1UUmgbgHuhQ  spotify:track:0SHa9XHwYYB1UUmgbgHuhQ   \n",
       "...                      ...                                   ...   \n",
       "1158  6ZHCQehGCpGWTi6wEzs8vf  spotify:track:6ZHCQehGCpGWTi6wEzs8vf   \n",
       "1159  28a0aMV1OKoyNiCJuNsWrY  spotify:track:28a0aMV1OKoyNiCJuNsWrY   \n",
       "1160  2uy15favOgEOtS8wjAD9B1  spotify:track:2uy15favOgEOtS8wjAD9B1   \n",
       "1161  5fqAR2xqe0zZ6eY4PRsnRk  spotify:track:5fqAR2xqe0zZ6eY4PRsnRk   \n",
       "1162  6Ob9ogQqMkaL7oJYQRsCya  spotify:track:6Ob9ogQqMkaL7oJYQRsCya   \n",
       "\n",
       "                                             track_href  \\\n",
       "0     https://api.spotify.com/v1/tracks/3VqiD8Yvk6bK...   \n",
       "1     https://api.spotify.com/v1/tracks/5d1rmWWF1725...   \n",
       "2     https://api.spotify.com/v1/tracks/7iq8PFNFGvsB...   \n",
       "3     https://api.spotify.com/v1/tracks/5h1L6nOR9QYX...   \n",
       "4     https://api.spotify.com/v1/tracks/0SHa9XHwYYB1...   \n",
       "...                                                 ...   \n",
       "1158  https://api.spotify.com/v1/tracks/6ZHCQehGCpGW...   \n",
       "1159  https://api.spotify.com/v1/tracks/28a0aMV1OKoy...   \n",
       "1160  https://api.spotify.com/v1/tracks/2uy15favOgEO...   \n",
       "1161  https://api.spotify.com/v1/tracks/5fqAR2xqe0zZ...   \n",
       "1162  https://api.spotify.com/v1/tracks/6Ob9ogQqMkaL...   \n",
       "\n",
       "                                           analysis_url  duration_ms  \\\n",
       "0     https://api.spotify.com/v1/audio-analysis/3Vqi...        60107   \n",
       "1     https://api.spotify.com/v1/audio-analysis/5d1r...       190293   \n",
       "2     https://api.spotify.com/v1/audio-analysis/7iq8...       157143   \n",
       "3     https://api.spotify.com/v1/audio-analysis/5h1L...       171149   \n",
       "4     https://api.spotify.com/v1/audio-analysis/0SHa...       193733   \n",
       "...                                                 ...          ...   \n",
       "1158  https://api.spotify.com/v1/audio-analysis/6ZHC...       357105   \n",
       "1159  https://api.spotify.com/v1/audio-analysis/28a0...       165620   \n",
       "1160  https://api.spotify.com/v1/audio-analysis/2uy1...       251277   \n",
       "1161  https://api.spotify.com/v1/audio-analysis/5fqA...       178269   \n",
       "1162  https://api.spotify.com/v1/audio-analysis/6Ob9...       398573   \n",
       "\n",
       "                                           trackName           artistName  \n",
       "0                                    Colour Spectrum             Coldplay  \n",
       "1             Way To Break My Heart (feat. Skrillex)           Ed Sheeran  \n",
       "2                          iPad - Frank Walker Remix     The Chainsmokers  \n",
       "3                                              Pause        Prateek Kuhad  \n",
       "4                                     Favorite Peeps        Prateek Kuhad  \n",
       "...                                              ...                  ...  \n",
       "1158             While My Guitar Gently Weeps - Live       Paul McCartney  \n",
       "1159    That’s Not How This Works (feat. Dan + Shay)         Charlie Puth  \n",
       "1160                                      Tum Ho Toh        Farhan Akhtar  \n",
       "1161                   Love To Go - Acoustic Version     Lost Frequencies  \n",
       "1162  Ghost of You (Live from The Royal Albert Hall)  5 Seconds of Summer  \n",
       "\n",
       "[1163 rows x 19 columns]"
      ]
     },
     "execution_count": 5,
     "metadata": {},
     "output_type": "execute_result"
    }
   ],
   "source": [
    "data2"
   ]
  },
  {
   "attachments": {},
   "cell_type": "markdown",
   "metadata": {},
   "source": [
    "We combined both the dataframes by using a extra `who` in the combined dataFrame.\n",
    "- Jaimin : 1\n",
    "- Mukul : 0"
   ]
  },
  {
   "cell_type": "code",
   "execution_count": 6,
   "metadata": {},
   "outputs": [],
   "source": [
    "data1['who'] = 1\n",
    "data2['who'] = 0"
   ]
  },
  {
   "cell_type": "code",
   "execution_count": 8,
   "metadata": {},
   "outputs": [
    {
     "name": "stderr",
     "output_type": "stream",
     "text": [
      "/var/folders/yp/n74hncp91yx5nd3f2q977y_c0000gn/T/ipykernel_7758/2376918984.py:1: FutureWarning: The frame.append method is deprecated and will be removed from pandas in a future version. Use pandas.concat instead.\n",
      "  df_couple = data1.append(data2)\n"
     ]
    },
    {
     "data": {
      "text/html": [
       "<div>\n",
       "<style scoped>\n",
       "    .dataframe tbody tr th:only-of-type {\n",
       "        vertical-align: middle;\n",
       "    }\n",
       "\n",
       "    .dataframe tbody tr th {\n",
       "        vertical-align: top;\n",
       "    }\n",
       "\n",
       "    .dataframe thead th {\n",
       "        text-align: right;\n",
       "    }\n",
       "</style>\n",
       "<table border=\"1\" class=\"dataframe\">\n",
       "  <thead>\n",
       "    <tr style=\"text-align: right;\">\n",
       "      <th></th>\n",
       "      <th>danceability</th>\n",
       "      <th>energy</th>\n",
       "      <th>key</th>\n",
       "      <th>loudness</th>\n",
       "      <th>mode</th>\n",
       "      <th>speechiness</th>\n",
       "      <th>acousticness</th>\n",
       "      <th>instrumentalness</th>\n",
       "      <th>liveness</th>\n",
       "      <th>valence</th>\n",
       "      <th>tempo</th>\n",
       "      <th>id</th>\n",
       "      <th>duration_ms</th>\n",
       "      <th>trackName</th>\n",
       "      <th>artistName</th>\n",
       "      <th>who</th>\n",
       "      <th>type</th>\n",
       "      <th>uri</th>\n",
       "      <th>track_href</th>\n",
       "      <th>analysis_url</th>\n",
       "    </tr>\n",
       "  </thead>\n",
       "  <tbody>\n",
       "    <tr>\n",
       "      <th>0</th>\n",
       "      <td>0.679</td>\n",
       "      <td>0.582</td>\n",
       "      <td>11</td>\n",
       "      <td>-10.459</td>\n",
       "      <td>1</td>\n",
       "      <td>0.0615</td>\n",
       "      <td>0.0306</td>\n",
       "      <td>0.000932</td>\n",
       "      <td>0.1080</td>\n",
       "      <td>0.767</td>\n",
       "      <td>149.975</td>\n",
       "      <td>110PnrQX9AJIt3HNJtjPgt</td>\n",
       "      <td>277200</td>\n",
       "      <td>False Direction</td>\n",
       "      <td>Dayglow</td>\n",
       "      <td>1</td>\n",
       "      <td>NaN</td>\n",
       "      <td>NaN</td>\n",
       "      <td>NaN</td>\n",
       "      <td>NaN</td>\n",
       "    </tr>\n",
       "    <tr>\n",
       "      <th>1</th>\n",
       "      <td>0.467</td>\n",
       "      <td>0.859</td>\n",
       "      <td>0</td>\n",
       "      <td>-2.946</td>\n",
       "      <td>0</td>\n",
       "      <td>0.0409</td>\n",
       "      <td>0.6610</td>\n",
       "      <td>0.000000</td>\n",
       "      <td>0.0522</td>\n",
       "      <td>0.673</td>\n",
       "      <td>89.842</td>\n",
       "      <td>0mh4VutnDyBn1sqcp05MZD</td>\n",
       "      <td>251480</td>\n",
       "      <td>Mat Aazma Re</td>\n",
       "      <td>Pritam</td>\n",
       "      <td>1</td>\n",
       "      <td>NaN</td>\n",
       "      <td>NaN</td>\n",
       "      <td>NaN</td>\n",
       "      <td>NaN</td>\n",
       "    </tr>\n",
       "    <tr>\n",
       "      <th>2</th>\n",
       "      <td>0.678</td>\n",
       "      <td>0.771</td>\n",
       "      <td>6</td>\n",
       "      <td>-2.849</td>\n",
       "      <td>1</td>\n",
       "      <td>0.0266</td>\n",
       "      <td>0.0277</td>\n",
       "      <td>0.002530</td>\n",
       "      <td>0.1490</td>\n",
       "      <td>0.462</td>\n",
       "      <td>105.976</td>\n",
       "      <td>3s6H6UW7yPu2rsF8CGki60</td>\n",
       "      <td>253200</td>\n",
       "      <td>Zindagi Do Pal Ki</td>\n",
       "      <td>KK</td>\n",
       "      <td>1</td>\n",
       "      <td>NaN</td>\n",
       "      <td>NaN</td>\n",
       "      <td>NaN</td>\n",
       "      <td>NaN</td>\n",
       "    </tr>\n",
       "  </tbody>\n",
       "</table>\n",
       "</div>"
      ],
      "text/plain": [
       "   danceability  energy  key  loudness  mode  speechiness  acousticness  \\\n",
       "0         0.679   0.582   11   -10.459     1       0.0615        0.0306   \n",
       "1         0.467   0.859    0    -2.946     0       0.0409        0.6610   \n",
       "2         0.678   0.771    6    -2.849     1       0.0266        0.0277   \n",
       "\n",
       "   instrumentalness  liveness  valence    tempo                      id  \\\n",
       "0          0.000932    0.1080    0.767  149.975  110PnrQX9AJIt3HNJtjPgt   \n",
       "1          0.000000    0.0522    0.673   89.842  0mh4VutnDyBn1sqcp05MZD   \n",
       "2          0.002530    0.1490    0.462  105.976  3s6H6UW7yPu2rsF8CGki60   \n",
       "\n",
       "   duration_ms          trackName artistName  who type  uri track_href  \\\n",
       "0       277200    False Direction    Dayglow    1  NaN  NaN        NaN   \n",
       "1       251480       Mat Aazma Re     Pritam    1  NaN  NaN        NaN   \n",
       "2       253200  Zindagi Do Pal Ki         KK    1  NaN  NaN        NaN   \n",
       "\n",
       "  analysis_url  \n",
       "0          NaN  \n",
       "1          NaN  \n",
       "2          NaN  "
      ]
     },
     "execution_count": 8,
     "metadata": {},
     "output_type": "execute_result"
    }
   ],
   "source": [
    "df_couple = data1.append(data2)\n",
    "df_couple.reset_index(inplace= True)\n",
    "df_couple.drop('index', axis = 1, inplace= True)\n",
    "df_couple.head(3)"
   ]
  },
  {
   "attachments": {},
   "cell_type": "markdown",
   "metadata": {},
   "source": [
    "We extract 7 features form the dataset :\n",
    "1. acousticness\n",
    "2. danceability\n",
    "3. energy\n",
    "4. instrumentalness\n",
    "5. liveness\n",
    "6. speechiness\n",
    "7. valence"
   ]
  },
  {
   "cell_type": "code",
   "execution_count": 9,
   "metadata": {},
   "outputs": [],
   "source": [
    "def features(df,who):\n",
    "    if who == 'both':\n",
    "         features = df.loc[: ,['acousticness', 'danceability', 'energy', 'instrumentalness', 'liveness', 'speechiness', 'valence', 'who']]         \n",
    "    elif who == 0 or who == 1:   \n",
    "          features = df.loc[df.who == who,['acousticness', 'danceability', 'energy', 'instrumentalness', 'liveness', 'speechiness', 'valence']]           \n",
    "    else:\n",
    "        return 'Error'\n",
    "    return features"
   ]
  },
  {
   "cell_type": "code",
   "execution_count": 10,
   "metadata": {},
   "outputs": [
    {
     "data": {
      "text/html": [
       "<div>\n",
       "<style scoped>\n",
       "    .dataframe tbody tr th:only-of-type {\n",
       "        vertical-align: middle;\n",
       "    }\n",
       "\n",
       "    .dataframe tbody tr th {\n",
       "        vertical-align: top;\n",
       "    }\n",
       "\n",
       "    .dataframe thead th {\n",
       "        text-align: right;\n",
       "    }\n",
       "</style>\n",
       "<table border=\"1\" class=\"dataframe\">\n",
       "  <thead>\n",
       "    <tr style=\"text-align: right;\">\n",
       "      <th></th>\n",
       "      <th>acousticness</th>\n",
       "      <th>danceability</th>\n",
       "      <th>energy</th>\n",
       "      <th>instrumentalness</th>\n",
       "      <th>liveness</th>\n",
       "      <th>speechiness</th>\n",
       "      <th>valence</th>\n",
       "    </tr>\n",
       "  </thead>\n",
       "  <tbody>\n",
       "    <tr>\n",
       "      <th>0</th>\n",
       "      <td>0.0306</td>\n",
       "      <td>0.679</td>\n",
       "      <td>0.582</td>\n",
       "      <td>0.000932</td>\n",
       "      <td>0.1080</td>\n",
       "      <td>0.0615</td>\n",
       "      <td>0.767</td>\n",
       "    </tr>\n",
       "    <tr>\n",
       "      <th>1</th>\n",
       "      <td>0.6610</td>\n",
       "      <td>0.467</td>\n",
       "      <td>0.859</td>\n",
       "      <td>0.000000</td>\n",
       "      <td>0.0522</td>\n",
       "      <td>0.0409</td>\n",
       "      <td>0.673</td>\n",
       "    </tr>\n",
       "    <tr>\n",
       "      <th>2</th>\n",
       "      <td>0.0277</td>\n",
       "      <td>0.678</td>\n",
       "      <td>0.771</td>\n",
       "      <td>0.002530</td>\n",
       "      <td>0.1490</td>\n",
       "      <td>0.0266</td>\n",
       "      <td>0.462</td>\n",
       "    </tr>\n",
       "    <tr>\n",
       "      <th>3</th>\n",
       "      <td>0.1550</td>\n",
       "      <td>0.636</td>\n",
       "      <td>0.745</td>\n",
       "      <td>0.000003</td>\n",
       "      <td>0.1320</td>\n",
       "      <td>0.0378</td>\n",
       "      <td>0.719</td>\n",
       "    </tr>\n",
       "    <tr>\n",
       "      <th>4</th>\n",
       "      <td>0.6130</td>\n",
       "      <td>0.486</td>\n",
       "      <td>0.382</td>\n",
       "      <td>0.000086</td>\n",
       "      <td>0.1490</td>\n",
       "      <td>0.0286</td>\n",
       "      <td>0.164</td>\n",
       "    </tr>\n",
       "  </tbody>\n",
       "</table>\n",
       "</div>"
      ],
      "text/plain": [
       "   acousticness  danceability  energy  instrumentalness  liveness  \\\n",
       "0        0.0306         0.679   0.582          0.000932    0.1080   \n",
       "1        0.6610         0.467   0.859          0.000000    0.0522   \n",
       "2        0.0277         0.678   0.771          0.002530    0.1490   \n",
       "3        0.1550         0.636   0.745          0.000003    0.1320   \n",
       "4        0.6130         0.486   0.382          0.000086    0.1490   \n",
       "\n",
       "   speechiness  valence  \n",
       "0       0.0615    0.767  \n",
       "1       0.0409    0.673  \n",
       "2       0.0266    0.462  \n",
       "3       0.0378    0.719  \n",
       "4       0.0286    0.164  "
      ]
     },
     "execution_count": 10,
     "metadata": {},
     "output_type": "execute_result"
    }
   ],
   "source": [
    "features_jaimin = features(df_couple, 1)\n",
    "features_mukul = features(df_couple,0)\n",
    "features_jaimin.head()"
   ]
  },
  {
   "cell_type": "code",
   "execution_count": 44,
   "metadata": {},
   "outputs": [
    {
     "data": {
      "application/vnd.plotly.v1+json": {
       "config": {
        "plotlyServerURL": "https://plotly.com"
       },
       "data": [
        {
         "marker": {
          "color": "lightslategray"
         },
         "name": "Jaimin",
         "type": "bar",
         "x": [
          "acousticness",
          "danceability",
          "energy",
          "instrumentalness",
          "liveness",
          "speechiness",
          "valence"
         ],
         "y": [
          0.3948580819466248,
          0.6150753532182104,
          0.553261224489796,
          0.07073037692307692,
          0.17535243328100472,
          0.0830956043956044,
          0.4716751962323391
         ]
        },
        {
         "marker": {
          "color": "mediumvioletred"
         },
         "name": "Mukul",
         "type": "bar",
         "x": [
          "acousticness",
          "danceability",
          "energy",
          "instrumentalness",
          "liveness",
          "speechiness",
          "valence"
         ],
         "y": [
          0.3828716410404127,
          0.5584600171969046,
          0.5657228288907996,
          0.03547591625107481,
          0.18022768701633707,
          0.05961504729148753,
          0.4137122957867584
         ]
        }
       ],
       "layout": {
        "barmode": "group",
        "height": 600,
        "legend": {
         "orientation": "h",
         "x": 0,
         "y": 1.2
        },
        "template": {
         "data": {
          "bar": [
           {
            "error_x": {
             "color": "#2a3f5f"
            },
            "error_y": {
             "color": "#2a3f5f"
            },
            "marker": {
             "line": {
              "color": "#E5ECF6",
              "width": 0.5
             },
             "pattern": {
              "fillmode": "overlay",
              "size": 10,
              "solidity": 0.2
             }
            },
            "type": "bar"
           }
          ],
          "barpolar": [
           {
            "marker": {
             "line": {
              "color": "#E5ECF6",
              "width": 0.5
             },
             "pattern": {
              "fillmode": "overlay",
              "size": 10,
              "solidity": 0.2
             }
            },
            "type": "barpolar"
           }
          ],
          "carpet": [
           {
            "aaxis": {
             "endlinecolor": "#2a3f5f",
             "gridcolor": "white",
             "linecolor": "white",
             "minorgridcolor": "white",
             "startlinecolor": "#2a3f5f"
            },
            "baxis": {
             "endlinecolor": "#2a3f5f",
             "gridcolor": "white",
             "linecolor": "white",
             "minorgridcolor": "white",
             "startlinecolor": "#2a3f5f"
            },
            "type": "carpet"
           }
          ],
          "choropleth": [
           {
            "colorbar": {
             "outlinewidth": 0,
             "ticks": ""
            },
            "type": "choropleth"
           }
          ],
          "contour": [
           {
            "colorbar": {
             "outlinewidth": 0,
             "ticks": ""
            },
            "colorscale": [
             [
              0,
              "#0d0887"
             ],
             [
              0.1111111111111111,
              "#46039f"
             ],
             [
              0.2222222222222222,
              "#7201a8"
             ],
             [
              0.3333333333333333,
              "#9c179e"
             ],
             [
              0.4444444444444444,
              "#bd3786"
             ],
             [
              0.5555555555555556,
              "#d8576b"
             ],
             [
              0.6666666666666666,
              "#ed7953"
             ],
             [
              0.7777777777777778,
              "#fb9f3a"
             ],
             [
              0.8888888888888888,
              "#fdca26"
             ],
             [
              1,
              "#f0f921"
             ]
            ],
            "type": "contour"
           }
          ],
          "contourcarpet": [
           {
            "colorbar": {
             "outlinewidth": 0,
             "ticks": ""
            },
            "type": "contourcarpet"
           }
          ],
          "heatmap": [
           {
            "colorbar": {
             "outlinewidth": 0,
             "ticks": ""
            },
            "colorscale": [
             [
              0,
              "#0d0887"
             ],
             [
              0.1111111111111111,
              "#46039f"
             ],
             [
              0.2222222222222222,
              "#7201a8"
             ],
             [
              0.3333333333333333,
              "#9c179e"
             ],
             [
              0.4444444444444444,
              "#bd3786"
             ],
             [
              0.5555555555555556,
              "#d8576b"
             ],
             [
              0.6666666666666666,
              "#ed7953"
             ],
             [
              0.7777777777777778,
              "#fb9f3a"
             ],
             [
              0.8888888888888888,
              "#fdca26"
             ],
             [
              1,
              "#f0f921"
             ]
            ],
            "type": "heatmap"
           }
          ],
          "heatmapgl": [
           {
            "colorbar": {
             "outlinewidth": 0,
             "ticks": ""
            },
            "colorscale": [
             [
              0,
              "#0d0887"
             ],
             [
              0.1111111111111111,
              "#46039f"
             ],
             [
              0.2222222222222222,
              "#7201a8"
             ],
             [
              0.3333333333333333,
              "#9c179e"
             ],
             [
              0.4444444444444444,
              "#bd3786"
             ],
             [
              0.5555555555555556,
              "#d8576b"
             ],
             [
              0.6666666666666666,
              "#ed7953"
             ],
             [
              0.7777777777777778,
              "#fb9f3a"
             ],
             [
              0.8888888888888888,
              "#fdca26"
             ],
             [
              1,
              "#f0f921"
             ]
            ],
            "type": "heatmapgl"
           }
          ],
          "histogram": [
           {
            "marker": {
             "pattern": {
              "fillmode": "overlay",
              "size": 10,
              "solidity": 0.2
             }
            },
            "type": "histogram"
           }
          ],
          "histogram2d": [
           {
            "colorbar": {
             "outlinewidth": 0,
             "ticks": ""
            },
            "colorscale": [
             [
              0,
              "#0d0887"
             ],
             [
              0.1111111111111111,
              "#46039f"
             ],
             [
              0.2222222222222222,
              "#7201a8"
             ],
             [
              0.3333333333333333,
              "#9c179e"
             ],
             [
              0.4444444444444444,
              "#bd3786"
             ],
             [
              0.5555555555555556,
              "#d8576b"
             ],
             [
              0.6666666666666666,
              "#ed7953"
             ],
             [
              0.7777777777777778,
              "#fb9f3a"
             ],
             [
              0.8888888888888888,
              "#fdca26"
             ],
             [
              1,
              "#f0f921"
             ]
            ],
            "type": "histogram2d"
           }
          ],
          "histogram2dcontour": [
           {
            "colorbar": {
             "outlinewidth": 0,
             "ticks": ""
            },
            "colorscale": [
             [
              0,
              "#0d0887"
             ],
             [
              0.1111111111111111,
              "#46039f"
             ],
             [
              0.2222222222222222,
              "#7201a8"
             ],
             [
              0.3333333333333333,
              "#9c179e"
             ],
             [
              0.4444444444444444,
              "#bd3786"
             ],
             [
              0.5555555555555556,
              "#d8576b"
             ],
             [
              0.6666666666666666,
              "#ed7953"
             ],
             [
              0.7777777777777778,
              "#fb9f3a"
             ],
             [
              0.8888888888888888,
              "#fdca26"
             ],
             [
              1,
              "#f0f921"
             ]
            ],
            "type": "histogram2dcontour"
           }
          ],
          "mesh3d": [
           {
            "colorbar": {
             "outlinewidth": 0,
             "ticks": ""
            },
            "type": "mesh3d"
           }
          ],
          "parcoords": [
           {
            "line": {
             "colorbar": {
              "outlinewidth": 0,
              "ticks": ""
             }
            },
            "type": "parcoords"
           }
          ],
          "pie": [
           {
            "automargin": true,
            "type": "pie"
           }
          ],
          "scatter": [
           {
            "fillpattern": {
             "fillmode": "overlay",
             "size": 10,
             "solidity": 0.2
            },
            "type": "scatter"
           }
          ],
          "scatter3d": [
           {
            "line": {
             "colorbar": {
              "outlinewidth": 0,
              "ticks": ""
             }
            },
            "marker": {
             "colorbar": {
              "outlinewidth": 0,
              "ticks": ""
             }
            },
            "type": "scatter3d"
           }
          ],
          "scattercarpet": [
           {
            "marker": {
             "colorbar": {
              "outlinewidth": 0,
              "ticks": ""
             }
            },
            "type": "scattercarpet"
           }
          ],
          "scattergeo": [
           {
            "marker": {
             "colorbar": {
              "outlinewidth": 0,
              "ticks": ""
             }
            },
            "type": "scattergeo"
           }
          ],
          "scattergl": [
           {
            "marker": {
             "colorbar": {
              "outlinewidth": 0,
              "ticks": ""
             }
            },
            "type": "scattergl"
           }
          ],
          "scattermapbox": [
           {
            "marker": {
             "colorbar": {
              "outlinewidth": 0,
              "ticks": ""
             }
            },
            "type": "scattermapbox"
           }
          ],
          "scatterpolar": [
           {
            "marker": {
             "colorbar": {
              "outlinewidth": 0,
              "ticks": ""
             }
            },
            "type": "scatterpolar"
           }
          ],
          "scatterpolargl": [
           {
            "marker": {
             "colorbar": {
              "outlinewidth": 0,
              "ticks": ""
             }
            },
            "type": "scatterpolargl"
           }
          ],
          "scatterternary": [
           {
            "marker": {
             "colorbar": {
              "outlinewidth": 0,
              "ticks": ""
             }
            },
            "type": "scatterternary"
           }
          ],
          "surface": [
           {
            "colorbar": {
             "outlinewidth": 0,
             "ticks": ""
            },
            "colorscale": [
             [
              0,
              "#0d0887"
             ],
             [
              0.1111111111111111,
              "#46039f"
             ],
             [
              0.2222222222222222,
              "#7201a8"
             ],
             [
              0.3333333333333333,
              "#9c179e"
             ],
             [
              0.4444444444444444,
              "#bd3786"
             ],
             [
              0.5555555555555556,
              "#d8576b"
             ],
             [
              0.6666666666666666,
              "#ed7953"
             ],
             [
              0.7777777777777778,
              "#fb9f3a"
             ],
             [
              0.8888888888888888,
              "#fdca26"
             ],
             [
              1,
              "#f0f921"
             ]
            ],
            "type": "surface"
           }
          ],
          "table": [
           {
            "cells": {
             "fill": {
              "color": "#EBF0F8"
             },
             "line": {
              "color": "white"
             }
            },
            "header": {
             "fill": {
              "color": "#C8D4E3"
             },
             "line": {
              "color": "white"
             }
            },
            "type": "table"
           }
          ]
         },
         "layout": {
          "annotationdefaults": {
           "arrowcolor": "#2a3f5f",
           "arrowhead": 0,
           "arrowwidth": 1
          },
          "autotypenumbers": "strict",
          "coloraxis": {
           "colorbar": {
            "outlinewidth": 0,
            "ticks": ""
           }
          },
          "colorscale": {
           "diverging": [
            [
             0,
             "#8e0152"
            ],
            [
             0.1,
             "#c51b7d"
            ],
            [
             0.2,
             "#de77ae"
            ],
            [
             0.3,
             "#f1b6da"
            ],
            [
             0.4,
             "#fde0ef"
            ],
            [
             0.5,
             "#f7f7f7"
            ],
            [
             0.6,
             "#e6f5d0"
            ],
            [
             0.7,
             "#b8e186"
            ],
            [
             0.8,
             "#7fbc41"
            ],
            [
             0.9,
             "#4d9221"
            ],
            [
             1,
             "#276419"
            ]
           ],
           "sequential": [
            [
             0,
             "#0d0887"
            ],
            [
             0.1111111111111111,
             "#46039f"
            ],
            [
             0.2222222222222222,
             "#7201a8"
            ],
            [
             0.3333333333333333,
             "#9c179e"
            ],
            [
             0.4444444444444444,
             "#bd3786"
            ],
            [
             0.5555555555555556,
             "#d8576b"
            ],
            [
             0.6666666666666666,
             "#ed7953"
            ],
            [
             0.7777777777777778,
             "#fb9f3a"
            ],
            [
             0.8888888888888888,
             "#fdca26"
            ],
            [
             1,
             "#f0f921"
            ]
           ],
           "sequentialminus": [
            [
             0,
             "#0d0887"
            ],
            [
             0.1111111111111111,
             "#46039f"
            ],
            [
             0.2222222222222222,
             "#7201a8"
            ],
            [
             0.3333333333333333,
             "#9c179e"
            ],
            [
             0.4444444444444444,
             "#bd3786"
            ],
            [
             0.5555555555555556,
             "#d8576b"
            ],
            [
             0.6666666666666666,
             "#ed7953"
            ],
            [
             0.7777777777777778,
             "#fb9f3a"
            ],
            [
             0.8888888888888888,
             "#fdca26"
            ],
            [
             1,
             "#f0f921"
            ]
           ]
          },
          "colorway": [
           "#636efa",
           "#EF553B",
           "#00cc96",
           "#ab63fa",
           "#FFA15A",
           "#19d3f3",
           "#FF6692",
           "#B6E880",
           "#FF97FF",
           "#FECB52"
          ],
          "font": {
           "color": "#2a3f5f"
          },
          "geo": {
           "bgcolor": "white",
           "lakecolor": "white",
           "landcolor": "#E5ECF6",
           "showlakes": true,
           "showland": true,
           "subunitcolor": "white"
          },
          "hoverlabel": {
           "align": "left"
          },
          "hovermode": "closest",
          "mapbox": {
           "style": "light"
          },
          "paper_bgcolor": "white",
          "plot_bgcolor": "#E5ECF6",
          "polar": {
           "angularaxis": {
            "gridcolor": "white",
            "linecolor": "white",
            "ticks": ""
           },
           "bgcolor": "#E5ECF6",
           "radialaxis": {
            "gridcolor": "white",
            "linecolor": "white",
            "ticks": ""
           }
          },
          "scene": {
           "xaxis": {
            "backgroundcolor": "#E5ECF6",
            "gridcolor": "white",
            "gridwidth": 2,
            "linecolor": "white",
            "showbackground": true,
            "ticks": "",
            "zerolinecolor": "white"
           },
           "yaxis": {
            "backgroundcolor": "#E5ECF6",
            "gridcolor": "white",
            "gridwidth": 2,
            "linecolor": "white",
            "showbackground": true,
            "ticks": "",
            "zerolinecolor": "white"
           },
           "zaxis": {
            "backgroundcolor": "#E5ECF6",
            "gridcolor": "white",
            "gridwidth": 2,
            "linecolor": "white",
            "showbackground": true,
            "ticks": "",
            "zerolinecolor": "white"
           }
          },
          "shapedefaults": {
           "line": {
            "color": "#2a3f5f"
           }
          },
          "ternary": {
           "aaxis": {
            "gridcolor": "white",
            "linecolor": "white",
            "ticks": ""
           },
           "baxis": {
            "gridcolor": "white",
            "linecolor": "white",
            "ticks": ""
           },
           "bgcolor": "#E5ECF6",
           "caxis": {
            "gridcolor": "white",
            "linecolor": "white",
            "ticks": ""
           }
          },
          "title": {
           "x": 0.05
          },
          "xaxis": {
           "automargin": true,
           "gridcolor": "white",
           "linecolor": "white",
           "ticks": "",
           "title": {
            "standoff": 15
           },
           "zerolinecolor": "white",
           "zerolinewidth": 2
          },
          "yaxis": {
           "automargin": true,
           "gridcolor": "white",
           "linecolor": "white",
           "ticks": "",
           "title": {
            "standoff": 15
           },
           "zerolinecolor": "white",
           "zerolinewidth": 2
          }
         }
        },
        "title": {
         "text": "Mean values of the audio features"
        },
        "width": 800,
        "xaxis": {
         "tickfont": {
          "size": 12
         }
        },
        "yaxis": {
         "title": {
          "text": "Mean"
         }
        }
       }
      }
     },
     "metadata": {},
     "output_type": "display_data"
    }
   ],
   "source": [
    "import plotly.graph_objects as go\n",
    "\n",
    "N = len(features_jaimin.mean())\n",
    "ind = list(features_jaimin)\n",
    "jaimin_means = list(features_jaimin.mean())\n",
    "mukul_means = list(features_mukul.mean())\n",
    "\n",
    "fig = go.Figure()\n",
    "fig.update_layout(title=\"Mean values of the audio features\", yaxis_title=\"Mean\",\n",
    "                  width=800, height=600, barmode='group')\n",
    "\n",
    "fig.add_trace(go.Bar(x=ind, y=jaimin_means, name='Jaimin', marker_color='lightslategray'))\n",
    "\n",
    "fig.add_trace(go.Bar(x=ind, y=mukul_means, name='Mukul', marker_color='mediumvioletred'))\n",
    "\n",
    "fig.update_layout(xaxis_tickfont_size=12)\n",
    "\n",
    "fig.update_layout(legend=dict(x=0, y=1.2, orientation='h'))\n",
    "\n",
    "fig.show()"
   ]
  },
  {
   "cell_type": "code",
   "execution_count": 48,
   "metadata": {},
   "outputs": [
    {
     "data": {
      "text/plain": [
       "<matplotlib.legend.Legend at 0x14ffb4c10>"
      ]
     },
     "execution_count": 48,
     "metadata": {},
     "output_type": "execute_result"
    },
    {
     "data": {
      "image/png": "[encoded data removed]",
      "text/plain": [
       "<Figure size 1800x1800 with 1 Axes>"
      ]
     },
     "metadata": {},
     "output_type": "display_data"
    }
   ],
   "source": [
    "labels= list(features_jaimin)[:]\n",
    "stats= features_jaimin.mean().tolist()\n",
    "stats2 = features_mukul.mean().tolist()\n",
    "\n",
    "angles=np.linspace(0, 2*np.pi, len(labels), endpoint=False)\n",
    "\n",
    "# close the plot\n",
    "stats=np.concatenate((stats,[stats[0]]))\n",
    "stats2 =np.concatenate((stats2,[stats2[0]])) \n",
    "angles=np.concatenate((angles,[angles[0]]))\n",
    "\n",
    "#Size of the figure\n",
    "fig=plt.figure(figsize = (18,18))\n",
    "\n",
    "ax = fig.add_subplot(221, polar=True)\n",
    "ax.plot(angles, stats, 'o-', linewidth=2, label = \"Jaimin\", color= 'gray')\n",
    "ax.fill(angles, stats, alpha=0.25, facecolor='gray')\n",
    "ax.set_thetagrids((angles * 180/np.pi)[:-1], labels , fontsize = 13)\n",
    "\n",
    "\n",
    "ax.set_rlabel_position(250)\n",
    "plt.yticks([0.2 , 0.4 , 0.6 , 0.8  ], [\"0.2\",'0.4', \"0.6\", \"0.8\"], color=\"grey\", size=12)\n",
    "plt.ylim(0,1)\n",
    "\n",
    "ax.plot(angles, stats2, 'o-', linewidth=2, label = \"Mukul\", color = 'm')\n",
    "ax.fill(angles, stats2, alpha=0.25, facecolor='m' )\n",
    "ax.set_title('Mean Values of the audio features')\n",
    "ax.grid(True)\n",
    "\n",
    "plt.legend(loc='best', bbox_to_anchor=(0.1, 0.1))"
   ]
  },
  {
   "cell_type": "code",
   "execution_count": 49,
   "metadata": {},
   "outputs": [
    {
     "data": {
      "application/vnd.plotly.v1+json": {
       "config": {
        "plotlyServerURL": "https://plotly.com"
       },
       "data": [
        {
         "marker": {
          "color": [
           "lightslategray",
           "lightslategray",
           "lightslategray",
           "mediumvioletred",
           "mediumvioletred",
           "mediumvioletred",
           "mediumvioletred"
          ]
         },
         "orientation": "h",
         "type": "bar",
         "x": [
          0.05796290044558072,
          0.05661533602130575,
          0.03525446067200211,
          0.023480557104116867,
          0.011986440906212092,
          -0.004875253735332347,
          -0.012461604401003634
         ],
         "y": [
          "valence",
          "danceability",
          "instrumentalness",
          "speechiness",
          "acousticness",
          "liveness",
          "energy"
         ]
        }
       ],
       "layout": {
        "font": {
         "size": 14
        },
        "legend": {
         "orientation": "h",
         "x": 1,
         "xanchor": "right",
         "y": -0.2,
         "yanchor": "bottom"
        },
        "template": {
         "data": {
          "bar": [
           {
            "error_x": {
             "color": "#2a3f5f"
            },
            "error_y": {
             "color": "#2a3f5f"
            },
            "marker": {
             "line": {
              "color": "#E5ECF6",
              "width": 0.5
             },
             "pattern": {
              "fillmode": "overlay",
              "size": 10,
              "solidity": 0.2
             }
            },
            "type": "bar"
           }
          ],
          "barpolar": [
           {
            "marker": {
             "line": {
              "color": "#E5ECF6",
              "width": 0.5
             },
             "pattern": {
              "fillmode": "overlay",
              "size": 10,
              "solidity": 0.2
             }
            },
            "type": "barpolar"
           }
          ],
          "carpet": [
           {
            "aaxis": {
             "endlinecolor": "#2a3f5f",
             "gridcolor": "white",
             "linecolor": "white",
             "minorgridcolor": "white",
             "startlinecolor": "#2a3f5f"
            },
            "baxis": {
             "endlinecolor": "#2a3f5f",
             "gridcolor": "white",
             "linecolor": "white",
             "minorgridcolor": "white",
             "startlinecolor": "#2a3f5f"
            },
            "type": "carpet"
           }
          ],
          "choropleth": [
           {
            "colorbar": {
             "outlinewidth": 0,
             "ticks": ""
            },
            "type": "choropleth"
           }
          ],
          "contour": [
           {
            "colorbar": {
             "outlinewidth": 0,
             "ticks": ""
            },
            "colorscale": [
             [
              0,
              "#0d0887"
             ],
             [
              0.1111111111111111,
              "#46039f"
             ],
             [
              0.2222222222222222,
              "#7201a8"
             ],
             [
              0.3333333333333333,
              "#9c179e"
             ],
             [
              0.4444444444444444,
              "#bd3786"
             ],
             [
              0.5555555555555556,
              "#d8576b"
             ],
             [
              0.6666666666666666,
              "#ed7953"
             ],
             [
              0.7777777777777778,
              "#fb9f3a"
             ],
             [
              0.8888888888888888,
              "#fdca26"
             ],
             [
              1,
              "#f0f921"
             ]
            ],
            "type": "contour"
           }
          ],
          "contourcarpet": [
           {
            "colorbar": {
             "outlinewidth": 0,
             "ticks": ""
            },
            "type": "contourcarpet"
           }
          ],
          "heatmap": [
           {
            "colorbar": {
             "outlinewidth": 0,
             "ticks": ""
            },
            "colorscale": [
             [
              0,
              "#0d0887"
             ],
             [
              0.1111111111111111,
              "#46039f"
             ],
             [
              0.2222222222222222,
              "#7201a8"
             ],
             [
              0.3333333333333333,
              "#9c179e"
             ],
             [
              0.4444444444444444,
              "#bd3786"
             ],
             [
              0.5555555555555556,
              "#d8576b"
             ],
             [
              0.6666666666666666,
              "#ed7953"
             ],
             [
              0.7777777777777778,
              "#fb9f3a"
             ],
             [
              0.8888888888888888,
              "#fdca26"
             ],
             [
              1,
              "#f0f921"
             ]
            ],
            "type": "heatmap"
           }
          ],
          "heatmapgl": [
           {
            "colorbar": {
             "outlinewidth": 0,
             "ticks": ""
            },
            "colorscale": [
             [
              0,
              "#0d0887"
             ],
             [
              0.1111111111111111,
              "#46039f"
             ],
             [
              0.2222222222222222,
              "#7201a8"
             ],
             [
              0.3333333333333333,
              "#9c179e"
             ],
             [
              0.4444444444444444,
              "#bd3786"
             ],
             [
              0.5555555555555556,
              "#d8576b"
             ],
             [
              0.6666666666666666,
              "#ed7953"
             ],
             [
              0.7777777777777778,
              "#fb9f3a"
             ],
             [
              0.8888888888888888,
              "#fdca26"
             ],
             [
              1,
              "#f0f921"
             ]
            ],
            "type": "heatmapgl"
           }
          ],
          "histogram": [
           {
            "marker": {
             "pattern": {
              "fillmode": "overlay",
              "size": 10,
              "solidity": 0.2
             }
            },
            "type": "histogram"
           }
          ],
          "histogram2d": [
           {
            "colorbar": {
             "outlinewidth": 0,
             "ticks": ""
            },
            "colorscale": [
             [
              0,
              "#0d0887"
             ],
             [
              0.1111111111111111,
              "#46039f"
             ],
             [
              0.2222222222222222,
              "#7201a8"
             ],
             [
              0.3333333333333333,
              "#9c179e"
             ],
             [
              0.4444444444444444,
              "#bd3786"
             ],
             [
              0.5555555555555556,
              "#d8576b"
             ],
             [
              0.6666666666666666,
              "#ed7953"
             ],
             [
              0.7777777777777778,
              "#fb9f3a"
             ],
             [
              0.8888888888888888,
              "#fdca26"
             ],
             [
              1,
              "#f0f921"
             ]
            ],
            "type": "histogram2d"
           }
          ],
          "histogram2dcontour": [
           {
            "colorbar": {
             "outlinewidth": 0,
             "ticks": ""
            },
            "colorscale": [
             [
              0,
              "#0d0887"
             ],
             [
              0.1111111111111111,
              "#46039f"
             ],
             [
              0.2222222222222222,
              "#7201a8"
             ],
             [
              0.3333333333333333,
              "#9c179e"
             ],
             [
              0.4444444444444444,
              "#bd3786"
             ],
             [
              0.5555555555555556,
              "#d8576b"
             ],
             [
              0.6666666666666666,
              "#ed7953"
             ],
             [
              0.7777777777777778,
              "#fb9f3a"
             ],
             [
              0.8888888888888888,
              "#fdca26"
             ],
             [
              1,
              "#f0f921"
             ]
            ],
            "type": "histogram2dcontour"
           }
          ],
          "mesh3d": [
           {
            "colorbar": {
             "outlinewidth": 0,
             "ticks": ""
            },
            "type": "mesh3d"
           }
          ],
          "parcoords": [
           {
            "line": {
             "colorbar": {
              "outlinewidth": 0,
              "ticks": ""
             }
            },
            "type": "parcoords"
           }
          ],
          "pie": [
           {
            "automargin": true,
            "type": "pie"
           }
          ],
          "scatter": [
           {
            "fillpattern": {
             "fillmode": "overlay",
             "size": 10,
             "solidity": 0.2
            },
            "type": "scatter"
           }
          ],
          "scatter3d": [
           {
            "line": {
             "colorbar": {
              "outlinewidth": 0,
              "ticks": ""
             }
            },
            "marker": {
             "colorbar": {
              "outlinewidth": 0,
              "ticks": ""
             }
            },
            "type": "scatter3d"
           }
          ],
          "scattercarpet": [
           {
            "marker": {
             "colorbar": {
              "outlinewidth": 0,
              "ticks": ""
             }
            },
            "type": "scattercarpet"
           }
          ],
          "scattergeo": [
           {
            "marker": {
             "colorbar": {
              "outlinewidth": 0,
              "ticks": ""
             }
            },
            "type": "scattergeo"
           }
          ],
          "scattergl": [
           {
            "marker": {
             "colorbar": {
              "outlinewidth": 0,
              "ticks": ""
             }
            },
            "type": "scattergl"
           }
          ],
          "scattermapbox": [
           {
            "marker": {
             "colorbar": {
              "outlinewidth": 0,
              "ticks": ""
             }
            },
            "type": "scattermapbox"
           }
          ],
          "scatterpolar": [
           {
            "marker": {
             "colorbar": {
              "outlinewidth": 0,
              "ticks": ""
             }
            },
            "type": "scatterpolar"
           }
          ],
          "scatterpolargl": [
           {
            "marker": {
             "colorbar": {
              "outlinewidth": 0,
              "ticks": ""
             }
            },
            "type": "scatterpolargl"
           }
          ],
          "scatterternary": [
           {
            "marker": {
             "colorbar": {
              "outlinewidth": 0,
              "ticks": ""
             }
            },
            "type": "scatterternary"
           }
          ],
          "surface": [
           {
            "colorbar": {
             "outlinewidth": 0,
             "ticks": ""
            },
            "colorscale": [
             [
              0,
              "#0d0887"
             ],
             [
              0.1111111111111111,
              "#46039f"
             ],
             [
              0.2222222222222222,
              "#7201a8"
             ],
             [
              0.3333333333333333,
              "#9c179e"
             ],
             [
              0.4444444444444444,
              "#bd3786"
             ],
             [
              0.5555555555555556,
              "#d8576b"
             ],
             [
              0.6666666666666666,
              "#ed7953"
             ],
             [
              0.7777777777777778,
              "#fb9f3a"
             ],
             [
              0.8888888888888888,
              "#fdca26"
             ],
             [
              1,
              "#f0f921"
             ]
            ],
            "type": "surface"
           }
          ],
          "table": [
           {
            "cells": {
             "fill": {
              "color": "#EBF0F8"
             },
             "line": {
              "color": "white"
             }
            },
            "header": {
             "fill": {
              "color": "#C8D4E3"
             },
             "line": {
              "color": "white"
             }
            },
            "type": "table"
           }
          ]
         },
         "layout": {
          "annotationdefaults": {
           "arrowcolor": "#2a3f5f",
           "arrowhead": 0,
           "arrowwidth": 1
          },
          "autotypenumbers": "strict",
          "coloraxis": {
           "colorbar": {
            "outlinewidth": 0,
            "ticks": ""
           }
          },
          "colorscale": {
           "diverging": [
            [
             0,
             "#8e0152"
            ],
            [
             0.1,
             "#c51b7d"
            ],
            [
             0.2,
             "#de77ae"
            ],
            [
             0.3,
             "#f1b6da"
            ],
            [
             0.4,
             "#fde0ef"
            ],
            [
             0.5,
             "#f7f7f7"
            ],
            [
             0.6,
             "#e6f5d0"
            ],
            [
             0.7,
             "#b8e186"
            ],
            [
             0.8,
             "#7fbc41"
            ],
            [
             0.9,
             "#4d9221"
            ],
            [
             1,
             "#276419"
            ]
           ],
           "sequential": [
            [
             0,
             "#0d0887"
            ],
            [
             0.1111111111111111,
             "#46039f"
            ],
            [
             0.2222222222222222,
             "#7201a8"
            ],
            [
             0.3333333333333333,
             "#9c179e"
            ],
            [
             0.4444444444444444,
             "#bd3786"
            ],
            [
             0.5555555555555556,
             "#d8576b"
            ],
            [
             0.6666666666666666,
             "#ed7953"
            ],
            [
             0.7777777777777778,
             "#fb9f3a"
            ],
            [
             0.8888888888888888,
             "#fdca26"
            ],
            [
             1,
             "#f0f921"
            ]
           ],
           "sequentialminus": [
            [
             0,
             "#0d0887"
            ],
            [
             0.1111111111111111,
             "#46039f"
            ],
            [
             0.2222222222222222,
             "#7201a8"
            ],
            [
             0.3333333333333333,
             "#9c179e"
            ],
            [
             0.4444444444444444,
             "#bd3786"
            ],
            [
             0.5555555555555556,
             "#d8576b"
            ],
            [
             0.6666666666666666,
             "#ed7953"
            ],
            [
             0.7777777777777778,
             "#fb9f3a"
            ],
            [
             0.8888888888888888,
             "#fdca26"
            ],
            [
             1,
             "#f0f921"
            ]
           ]
          },
          "colorway": [
           "#636efa",
           "#EF553B",
           "#00cc96",
           "#ab63fa",
           "#FFA15A",
           "#19d3f3",
           "#FF6692",
           "#B6E880",
           "#FF97FF",
           "#FECB52"
          ],
          "font": {
           "color": "#2a3f5f"
          },
          "geo": {
           "bgcolor": "white",
           "lakecolor": "white",
           "landcolor": "#E5ECF6",
           "showlakes": true,
           "showland": true,
           "subunitcolor": "white"
          },
          "hoverlabel": {
           "align": "left"
          },
          "hovermode": "closest",
          "mapbox": {
           "style": "light"
          },
          "paper_bgcolor": "white",
          "plot_bgcolor": "#E5ECF6",
          "polar": {
           "angularaxis": {
            "gridcolor": "white",
            "linecolor": "white",
            "ticks": ""
           },
           "bgcolor": "#E5ECF6",
           "radialaxis": {
            "gridcolor": "white",
            "linecolor": "white",
            "ticks": ""
           }
          },
          "scene": {
           "xaxis": {
            "backgroundcolor": "#E5ECF6",
            "gridcolor": "white",
            "gridwidth": 2,
            "linecolor": "white",
            "showbackground": true,
            "ticks": "",
            "zerolinecolor": "white"
           },
           "yaxis": {
            "backgroundcolor": "#E5ECF6",
            "gridcolor": "white",
            "gridwidth": 2,
            "linecolor": "white",
            "showbackground": true,
            "ticks": "",
            "zerolinecolor": "white"
           },
           "zaxis": {
            "backgroundcolor": "#E5ECF6",
            "gridcolor": "white",
            "gridwidth": 2,
            "linecolor": "white",
            "showbackground": true,
            "ticks": "",
            "zerolinecolor": "white"
           }
          },
          "shapedefaults": {
           "line": {
            "color": "#2a3f5f"
           }
          },
          "ternary": {
           "aaxis": {
            "gridcolor": "white",
            "linecolor": "white",
            "ticks": ""
           },
           "baxis": {
            "gridcolor": "white",
            "linecolor": "white",
            "ticks": ""
           },
           "bgcolor": "#E5ECF6",
           "caxis": {
            "gridcolor": "white",
            "linecolor": "white",
            "ticks": ""
           }
          },
          "title": {
           "x": 0.05
          },
          "xaxis": {
           "automargin": true,
           "gridcolor": "white",
           "linecolor": "white",
           "ticks": "",
           "title": {
            "standoff": 15
           },
           "zerolinecolor": "white",
           "zerolinewidth": 2
          },
          "yaxis": {
           "automargin": true,
           "gridcolor": "white",
           "linecolor": "white",
           "ticks": "",
           "title": {
            "standoff": 15
           },
           "zerolinecolor": "white",
           "zerolinewidth": 2
          }
         }
        },
        "xaxis": {
         "title": {
          "text": "Mean"
         }
        },
        "yaxis": {
         "title": {
          "text": "Features"
         }
        }
       }
      }
     },
     "metadata": {},
     "output_type": "display_data"
    }
   ],
   "source": [
    "import plotly.graph_objects as go\n",
    "\n",
    "colors = ['lightslategray','lightslategray','lightslategray',\n",
    "'mediumvioletred','mediumvioletred','mediumvioletred','mediumvioletred']\n",
    "dif_features = features_jaimin.mean() - features_mukul.mean()\n",
    "\n",
    "index = dif_features.sort_values(ascending = False).index\n",
    "\n",
    "#Plot\n",
    "fig = go.Figure(go.Bar(x=dif_features.sort_values(ascending = False), y=index, orientation='h', marker_color=colors))\n",
    "\n",
    "#Create Legend\n",
    "gray_patch = mpatches.Patch(color ='lightslategray', label = 'Jaimin')\n",
    "violet_patch = mpatches.Patch(color = 'mediumvioletred', label = 'Mukul')\n",
    "fig.update_layout(legend=dict(orientation=\"h\", yanchor=\"bottom\", y=-0.2, xanchor=\"right\", x=1))\n",
    "\n",
    "#labels\n",
    "fig.update_layout(xaxis_title='Mean', yaxis_title='Features', font=dict(size=14))\n",
    "fig.show()"
   ]
  },
  {
   "attachments": {},
   "cell_type": "markdown",
   "metadata": {},
   "source": [
    "## How diversified are the lists ?!\n",
    "The variety of the lists can be investigated by checking the difference in genres of our songs. In case most of the songs belong to the same genre we would say that they are low varied.\n",
    "\n",
    "The question is: How would we analyze this ? well, the answer is simple : Let's check the standard deviation of each audio variable and examine them.\n",
    "\n",
    "Although the standard deviation of the audio features themselves do not give us much information ( as we can see in the plots below), we can sum them up and calculate the mean of the standard deviation of the lists. By doing that we get the values represented in the plot \"Variety of Audio Features\" with values of 0.19 in Jaimin's list and 0.18 in Mukul's list.\n",
    "\n",
    "How would we interpret that?! Well, let's say we can have songs with a high value of a specific feature such as energy and other songs with a really low value for the same attribute. In short, those numbers suggest that Jaimin's songs are a bit more diversified than Mukul's."
   ]
  },
  {
   "cell_type": "code",
   "execution_count": 59,
   "metadata": {},
   "outputs": [
    {
     "data": {
      "text/plain": [
       "(0.19, 0.18)"
      ]
     },
     "execution_count": 59,
     "metadata": {},
     "output_type": "execute_result"
    }
   ],
   "source": [
    "round(features_jaimin.std().mean(),2), round(features_mukul.std().mean(),2)"
   ]
  },
  {
   "cell_type": "code",
   "execution_count": 53,
   "metadata": {},
   "outputs": [
    {
     "data": {
      "image/png": "[encoded data removed]",
      "text/plain": [
       "<Figure size 1500x1500 with 2 Axes>"
      ]
     },
     "metadata": {},
     "output_type": "display_data"
    }
   ],
   "source": [
    "plt.subplot(221)\n",
    "\n",
    "features_jaimin.std().sort_values(ascending= False).plot(kind = 'bar', color = 'lightslategray')\n",
    "\n",
    "plt.xlabel('Features', fontsize = 14)\n",
    "plt.ylabel('Standard Deviation', fontsize = 14)\n",
    "plt.title(\"Standard Deviation of Jaimin's Audio Features\")\n",
    "\n",
    "plt.subplot(222)\n",
    "features_mukul.std().sort_values(ascending= False).plot(kind = 'bar', color = 'mediumvioletred')\n",
    "\n",
    "plt.xlabel('Features', fontsize = 14)\n",
    "plt.ylabel('Standard Deviation', fontsize = 14)\n",
    "plt.title(\"Standard Deviation of Mukul's Audio Features\")\n",
    "plt.rcParams['figure.figsize'] =(15,15)"
   ]
  },
  {
   "cell_type": "code",
   "execution_count": 58,
   "metadata": {},
   "outputs": [
    {
     "name": "stderr",
     "output_type": "stream",
     "text": [
      "/var/folders/yp/n74hncp91yx5nd3f2q977y_c0000gn/T/ipykernel_7758/3629165723.py:4: UserWarning:\n",
      "\n",
      "\n",
      "\n",
      "`distplot` is a deprecated function and will be removed in seaborn v0.14.0.\n",
      "\n",
      "Please adapt your code to use either `displot` (a figure-level function with\n",
      "similar flexibility) or `histplot` (an axes-level function for histograms).\n",
      "\n",
      "For a guide to updating your code to use the new functions, please see\n",
      "https://gist.github.com/mwaskom/de44147ed2974457ad6372750bbe5751\n",
      "\n",
      "\n",
      "/var/folders/yp/n74hncp91yx5nd3f2q977y_c0000gn/T/ipykernel_7758/3629165723.py:5: UserWarning:\n",
      "\n",
      "\n",
      "\n",
      "`distplot` is a deprecated function and will be removed in seaborn v0.14.0.\n",
      "\n",
      "Please adapt your code to use either `displot` (a figure-level function with\n",
      "similar flexibility) or `histplot` (an axes-level function for histograms).\n",
      "\n",
      "For a guide to updating your code to use the new functions, please see\n",
      "https://gist.github.com/mwaskom/de44147ed2974457ad6372750bbe5751\n",
      "\n",
      "\n",
      "/var/folders/yp/n74hncp91yx5nd3f2q977y_c0000gn/T/ipykernel_7758/3629165723.py:4: UserWarning:\n",
      "\n",
      "\n",
      "\n",
      "`distplot` is a deprecated function and will be removed in seaborn v0.14.0.\n",
      "\n",
      "Please adapt your code to use either `displot` (a figure-level function with\n",
      "similar flexibility) or `histplot` (an axes-level function for histograms).\n",
      "\n",
      "For a guide to updating your code to use the new functions, please see\n",
      "https://gist.github.com/mwaskom/de44147ed2974457ad6372750bbe5751\n",
      "\n",
      "\n",
      "/var/folders/yp/n74hncp91yx5nd3f2q977y_c0000gn/T/ipykernel_7758/3629165723.py:5: UserWarning:\n",
      "\n",
      "\n",
      "\n",
      "`distplot` is a deprecated function and will be removed in seaborn v0.14.0.\n",
      "\n",
      "Please adapt your code to use either `displot` (a figure-level function with\n",
      "similar flexibility) or `histplot` (an axes-level function for histograms).\n",
      "\n",
      "For a guide to updating your code to use the new functions, please see\n",
      "https://gist.github.com/mwaskom/de44147ed2974457ad6372750bbe5751\n",
      "\n",
      "\n",
      "/var/folders/yp/n74hncp91yx5nd3f2q977y_c0000gn/T/ipykernel_7758/3629165723.py:4: UserWarning:\n",
      "\n",
      "\n",
      "\n",
      "`distplot` is a deprecated function and will be removed in seaborn v0.14.0.\n",
      "\n",
      "Please adapt your code to use either `displot` (a figure-level function with\n",
      "similar flexibility) or `histplot` (an axes-level function for histograms).\n",
      "\n",
      "For a guide to updating your code to use the new functions, please see\n",
      "https://gist.github.com/mwaskom/de44147ed2974457ad6372750bbe5751\n",
      "\n",
      "\n",
      "/var/folders/yp/n74hncp91yx5nd3f2q977y_c0000gn/T/ipykernel_7758/3629165723.py:5: UserWarning:\n",
      "\n",
      "\n",
      "\n",
      "`distplot` is a deprecated function and will be removed in seaborn v0.14.0.\n",
      "\n",
      "Please adapt your code to use either `displot` (a figure-level function with\n",
      "similar flexibility) or `histplot` (an axes-level function for histograms).\n",
      "\n",
      "For a guide to updating your code to use the new functions, please see\n",
      "https://gist.github.com/mwaskom/de44147ed2974457ad6372750bbe5751\n",
      "\n",
      "\n",
      "/var/folders/yp/n74hncp91yx5nd3f2q977y_c0000gn/T/ipykernel_7758/3629165723.py:4: UserWarning:\n",
      "\n",
      "\n",
      "\n",
      "`distplot` is a deprecated function and will be removed in seaborn v0.14.0.\n",
      "\n",
      "Please adapt your code to use either `displot` (a figure-level function with\n",
      "similar flexibility) or `histplot` (an axes-level function for histograms).\n",
      "\n",
      "For a guide to updating your code to use the new functions, please see\n",
      "https://gist.github.com/mwaskom/de44147ed2974457ad6372750bbe5751\n",
      "\n",
      "\n",
      "/var/folders/yp/n74hncp91yx5nd3f2q977y_c0000gn/T/ipykernel_7758/3629165723.py:5: UserWarning:\n",
      "\n",
      "\n",
      "\n",
      "`distplot` is a deprecated function and will be removed in seaborn v0.14.0.\n",
      "\n",
      "Please adapt your code to use either `displot` (a figure-level function with\n",
      "similar flexibility) or `histplot` (an axes-level function for histograms).\n",
      "\n",
      "For a guide to updating your code to use the new functions, please see\n",
      "https://gist.github.com/mwaskom/de44147ed2974457ad6372750bbe5751\n",
      "\n",
      "\n",
      "/var/folders/yp/n74hncp91yx5nd3f2q977y_c0000gn/T/ipykernel_7758/3629165723.py:4: UserWarning:\n",
      "\n",
      "\n",
      "\n",
      "`distplot` is a deprecated function and will be removed in seaborn v0.14.0.\n",
      "\n",
      "Please adapt your code to use either `displot` (a figure-level function with\n",
      "similar flexibility) or `histplot` (an axes-level function for histograms).\n",
      "\n",
      "For a guide to updating your code to use the new functions, please see\n",
      "https://gist.github.com/mwaskom/de44147ed2974457ad6372750bbe5751\n",
      "\n",
      "\n",
      "/var/folders/yp/n74hncp91yx5nd3f2q977y_c0000gn/T/ipykernel_7758/3629165723.py:5: UserWarning:\n",
      "\n",
      "\n",
      "\n",
      "`distplot` is a deprecated function and will be removed in seaborn v0.14.0.\n",
      "\n",
      "Please adapt your code to use either `displot` (a figure-level function with\n",
      "similar flexibility) or `histplot` (an axes-level function for histograms).\n",
      "\n",
      "For a guide to updating your code to use the new functions, please see\n",
      "https://gist.github.com/mwaskom/de44147ed2974457ad6372750bbe5751\n",
      "\n",
      "\n",
      "/var/folders/yp/n74hncp91yx5nd3f2q977y_c0000gn/T/ipykernel_7758/3629165723.py:4: UserWarning:\n",
      "\n",
      "\n",
      "\n",
      "`distplot` is a deprecated function and will be removed in seaborn v0.14.0.\n",
      "\n",
      "Please adapt your code to use either `displot` (a figure-level function with\n",
      "similar flexibility) or `histplot` (an axes-level function for histograms).\n",
      "\n",
      "For a guide to updating your code to use the new functions, please see\n",
      "https://gist.github.com/mwaskom/de44147ed2974457ad6372750bbe5751\n",
      "\n",
      "\n",
      "/var/folders/yp/n74hncp91yx5nd3f2q977y_c0000gn/T/ipykernel_7758/3629165723.py:5: UserWarning:\n",
      "\n",
      "\n",
      "\n",
      "`distplot` is a deprecated function and will be removed in seaborn v0.14.0.\n",
      "\n",
      "Please adapt your code to use either `displot` (a figure-level function with\n",
      "similar flexibility) or `histplot` (an axes-level function for histograms).\n",
      "\n",
      "For a guide to updating your code to use the new functions, please see\n",
      "https://gist.github.com/mwaskom/de44147ed2974457ad6372750bbe5751\n",
      "\n",
      "\n",
      "/var/folders/yp/n74hncp91yx5nd3f2q977y_c0000gn/T/ipykernel_7758/3629165723.py:4: UserWarning:\n",
      "\n",
      "\n",
      "\n",
      "`distplot` is a deprecated function and will be removed in seaborn v0.14.0.\n",
      "\n",
      "Please adapt your code to use either `displot` (a figure-level function with\n",
      "similar flexibility) or `histplot` (an axes-level function for histograms).\n",
      "\n",
      "For a guide to updating your code to use the new functions, please see\n",
      "https://gist.github.com/mwaskom/de44147ed2974457ad6372750bbe5751\n",
      "\n",
      "\n",
      "/var/folders/yp/n74hncp91yx5nd3f2q977y_c0000gn/T/ipykernel_7758/3629165723.py:5: UserWarning:\n",
      "\n",
      "\n",
      "\n",
      "`distplot` is a deprecated function and will be removed in seaborn v0.14.0.\n",
      "\n",
      "Please adapt your code to use either `displot` (a figure-level function with\n",
      "similar flexibility) or `histplot` (an axes-level function for histograms).\n",
      "\n",
      "For a guide to updating your code to use the new functions, please see\n",
      "https://gist.github.com/mwaskom/de44147ed2974457ad6372750bbe5751\n",
      "\n",
      "\n"
     ]
    },
    {
     "data": {
      "image/png": "[encoded data removed]",
      "text/plain": [
       "<Figure size 1500x1500 with 9 Axes>"
      ]
     },
     "metadata": {},
     "output_type": "display_data"
    }
   ],
   "source": [
    "fig, axes = plt.subplots(nrows=3, ncols=3, figsize = (15, 15))\n",
    "\n",
    "for i, column in enumerate(features_jaimin.columns):\n",
    "    sns.distplot(features_jaimin[column], ax=axes[i//3,i%3]).set_title(\"mean: (%s)\" %features_jaimin[column].mean().round(decimals=2))\n",
    "    sns.distplot(features_mukul[column], ax=axes[i//3,i%3])"
   ]
  },
  {
   "attachments": {},
   "cell_type": "markdown",
   "metadata": {},
   "source": [
    "# Conclusion\n",
    "Jaimin and Mukul are 2 close friends, who spend their most time together in hostels in classes also. From the above analysis, we showed that even though the songs they listen to are very very different, the audio features tell that their songs have much similarity."
   ]
  },
  {
   "cell_type": "markdown",
   "metadata": {},
   "source": []
  }
 ],
 "metadata": {
  "kernelspec": {
   "display_name": "dv-project1",
   "language": "python",
   "name": "python3"
  },
  "language_info": {
   "codemirror_mode": {
    "name": "ipython",
    "version": 3
   },
   "file_extension": ".py",
   "mimetype": "text/x-python",
   "name": "python",
   "nbconvert_exporter": "python",
   "pygments_lexer": "ipython3",
   "version": "3.11.3"
  },
  "orig_nbformat": 4
 },
 "nbformat": 4,
 "nbformat_minor": 2
}
